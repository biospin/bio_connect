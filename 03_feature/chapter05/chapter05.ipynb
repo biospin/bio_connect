{
 "cells": [
  {
   "cell_type": "markdown",
   "metadata": {},
   "source": [
    "# 5장  범주형 변수 : 로봇닭 시대에 달걀 개수 세기"
   ]
  },
  {
   "cell_type": "markdown",
   "metadata": {},
   "source": [
    "- 범주형 변수( categorical variable) : 카테로기나 레이블을 나타내기 변수\n",
    "- 예를 들면, 세계의 주요 도시, 사계절, 기업의 사업분야( 석유, 여행, 기술)\n",
    "- 범주형 변수의 값은 서로 비교나 정렬될 수 없음."
   ]
  },
  {
   "cell_type": "markdown",
   "metadata": {},
   "source": [
    "- 큰 범주형 변수의 예시\n",
    "  - 웹서비스의 사용자ID,  이 ID는 서비스의 고유한 사용자 수에 따라서 수억개가 넘는 범주형 변수\n",
    "  - 인터넷 트랜잭션의 IP 주소\n",
    "  - 문서 코퍼스의 어휘\n",
    "- 큰 범주형 변수는 빈 카운팅 기법을 사용하고 이 기법을 살펴봄."
   ]
  },
  {
   "cell_type": "markdown",
   "metadata": {},
   "source": [
    "## 범주형 변수 인코딩\n",
    "- 가능한 범주가 k개 있다면 1부터 k까지의 정수를 부여하는 것이 간단하지만, 단점이 있어서 3가지 대안을 살펴봄."
   ]
  },
  {
   "cell_type": "markdown",
   "metadata": {},
   "source": [
    "### 원-핫 인코딩\n",
    "\n",
    "- 범주를 하나의 비트로 나타냄\n",
    "- scikit-learn에 sklearn.preprocessing.OneHotEncode로 구현\n",
    "- 이해하기 매우 쉽지만, 필요한 것보다 한 비트를 더 사용.\n",
    "- 단점 : 선형 종속성이 있어서 학습된 선형 모델이 고유하지 않을 수 있음.\n",
    "\n",
    "![](chapter05_01.jpg)"
   ]
  },
  {
   "cell_type": "markdown",
   "metadata": {},
   "source": [
    "### 더미 코딩\n",
    "\n",
    "- 원-핫 인코딩의 문제점 : 자유도가 k지만 변수 자체는 k-1개만 필요\n",
    "- 더미 코딩은 k-1개의 피처만 사용해 부수적인 자유도를 제거\n",
    "- 하나의 피처가 책임을 지고 모든 요소가 0인 벡터에 의해 표현\n",
    "- pandas에 pandas.get_dummies로 구현\n",
    "\n",
    "![](chapter05_02.jpg)"
   ]
  },
  {
   "cell_type": "markdown",
   "metadata": {},
   "source": [
    "### 이팩트 코딩\n",
    "- 더미 코딩과 비슷\n",
    "- 기존 범주가 모든 -1의 벡터로 표현\n",
    "\n",
    "![](chapter05_03.jpg)"
   ]
  },
  {
   "cell_type": "markdown",
   "metadata": {},
   "source": [
    "### 범주형 변수 인코딩의 장단점\n",
    "\n",
    "\n",
    "\n",
    "| **구분**         | **장점**                                                     | **단점**                                                 \n",
    "| :----------- | ------------------------------------------------------------ | ------------------------------------------------------------ \n",
    "| 원-핫 인코딩 | - 동일한 문제에 대해 여러 가지 모델을 허용 <br/>- 각 피처가 명확하기 하나의 범주에 상응<br />- 누락 데이터는 모두 0인 벡터로 인코딩 | - 변수를 더 사용                                             |\n",
    "| 더미 코딩    | - 불필요한한 요소가 없음. <br/>- 고유하고 해석 가능한 모델 가능     | - 기준 범주가 모든 0으로 매핑되어 누락 데이터를 처리 불가능  |\n",
    "| 이펙트 코딩  | - 불필요한한 요소가 없음. <br/>- 고유하고 해석 가능한 모델 가능     | - 모든 값이 -1인 벡터는 dense vector이므로 저장과 계산에 많은 비용 |\n",
    "\n",
    "\n",
    "- 이 세가지 인코딩 기법은 범주의 수가 매우 커지면 성능이 급격히 떨어짐.\n",
    "- 수가 매우 많은 범주형 변수를 처리하는 다른 전략이 필요"
   ]
  },
  {
   "cell_type": "markdown",
   "metadata": {},
   "source": [
    "## 대규모 범주형 변수 처리\n",
    "\n",
    "- 해결책들\n",
    "  1. 인코딩을 전혀 하지 않음.  선형모델에 원-핫 인코딩을 사용\n",
    "  2. 피처를 압축\n",
    "    - a. 선형모델에 많이 사용되는 피처 해싱\n",
    "    - b. 선형 모델뿐만 아니라 트리 모델에도 많이 사용되는 빈 카운팅"
   ]
  },
  {
   "cell_type": "markdown",
   "metadata": {},
   "source": [
    "### 피처 해싱\n",
    "\n",
    "- 해시함수는 잠재적으로 제한이 없는 정수를 유한한 정수 범위 [1, m]으로 매핑하는 결정론적 함수\n",
    "![](chapter05_04.jpg)"
   ]
  },
  {
   "cell_type": "markdown",
   "metadata": {},
   "source": [
    "- 장점 \n",
    "   - 선형모델이나 커널 기법등과 같이 피처 백터의 내적과 계수를 포함하는 모델에 사용\n",
    "   - 스팸 필터링 작업에서 성공적으로 입증\n",
    "- 단점 \n",
    "  - 타깃 광고의 경우에는 m의 값이 수십억에 달하지 않으면 공간 절약 효과가 충분하지 않기 때문에 예측 오차를 허용 가능한 수준으로 낮추기 어렵다고 보고.\n",
    "  - 원본 피처들이 뭉쳐 있는 해시된 피처를 해석 불가"
   ]
  },
  {
   "cell_type": "markdown",
   "metadata": {},
   "source": [
    "- Yelp 리뷰 데이터셋을 사용해 저장과 해석 가능성 사이의 트레이드오프 설명\n",
    "\n",
    "![](chapter05_05.jpg)\n",
    "![](chapter05_06.jpg)"
   ]
  },
  {
   "cell_type": "markdown",
   "metadata": {},
   "source": [
    "- 피처 해싱이 사용자의 해석 가능성을 희생하지만 대용량 데이터셋을 사용할때 데이터 탐색과 시각화 단계에서 머신러닝으로 이어지는 파이프라인을 쉽게 처리 가능"
   ]
  },
  {
   "cell_type": "markdown",
   "metadata": {},
   "source": [
    "### 빈 카운팅\n",
    "\n",
    "- 빈 카운팅은 광고 클릭률 예측에서부터 하드웨어 분기 예측에 이르기까지 다양한 분야에서 사용\n",
    "- 이 기법에 대한 자세한 설명  :  https://docs.microsoft.com/en-us/archive/blogs/machinelearning/big-learning-made-easy-with-counts\n",
    "- 범주형 변수의 값을 피처로 사용하는 대신에 그 값일 때 목표 변수에 대한 조건부 확률을 사용\n",
    "    - 범주의 값과 예측하길 원하는 목표값 사이의 통계량을 계산"
   ]
  },
  {
   "cell_type": "markdown",
   "metadata": {},
   "source": [
    "![](chapter05_07.jpg)"
   ]
  },
  {
   "cell_type": "markdown",
   "metadata": {},
   "source": [
    "- 활용 방법 \n",
    "   - 사용자 'Alice'가 광고를 클릭 확률 계산\n",
    "   - '검색어해시-광고도메인' 조합에 대해서 클릭 확률 계산 \n",
    "   - 모델을 학습할때 클릭 확률을 입력 피처로 사용\n",
    "   - 클릭 확률 이외에도 로그 오즈비 또는 파생된 다른 확률값 등으로 다른 피처 추가 \n",
    "   \n",
    "- 장점\n",
    "   - 10,000명 사용자가 있다면, \n",
    "   - 원-핫 인코딩할때는 10,000인 희소 백터 생성\n",
    "   - 빈 카운팅은 단일 피처에 0에서 1사이의 실수값으로 인코딩 \n",
    "   \n",
    "   \n",
    "![](chapter05_08.jpg)"
   ]
  },
  {
   "cell_type": "markdown",
   "metadata": {},
   "source": [
    "### 희귀 범주\n",
    "\n",
    "- 희귀 범주는 카운트 테이블의 공간을 낭비하여 이를 처리하는 방법이 필요\n",
    "\n",
    "- 1. 백오프( back-off )\n",
    "   - 희귀 범주에 포함되는 경우 하나의 통계값으로 사용\n",
    "\n",
    "![](chapter05_09.jpg)\n",
    "\n",
    "- 2. count-min sketch\n",
    "   - 모든 범주가 범주의 개수 k보다 휠씬 작은 출력범위m 을 가진 다중 해시 함수를 통해 매핑하고\n",
    "   - 얻어진 값중에서 가장 작은 통계량을 반환\n",
    "   \n",
    "![](chapter05_10.jpg)"
   ]
  },
  {
   "cell_type": "markdown",
   "metadata": {},
   "source": [
    "## 요약\n",
    "\n",
    "- 범주의 개수가 비교적 적을때\n",
    "   - 원-핫 인코딩\n",
    "   - 더미 코딩 : 주로 사용\n",
    "   - 이펙트 코딩\n",
    "\n",
    "\n",
    " - 범주의 개수가 대규모 일때\n",
    "   - 피처 해싱\n",
    "   - 빈 카운팅\n",
    "       - 희귀 범주일때 처리 필요\n",
    "          - 백오프\n",
    "          - count-min sketch \n",
    "          \n",
    "          \n",
    "![](chapter05_11.jpg)\n",
    "![](chapter05_12.jpg)"
   ]
  },
  {
   "cell_type": "code",
   "execution_count": null,
   "metadata": {},
   "outputs": [],
   "source": []
  }
 ],
 "metadata": {
  "kernelspec": {
   "display_name": "Python 3",
   "language": "python",
   "name": "python3"
  },
  "language_info": {
   "codemirror_mode": {
    "name": "ipython",
    "version": 3
   },
   "file_extension": ".py",
   "mimetype": "text/x-python",
   "name": "python",
   "nbconvert_exporter": "python",
   "pygments_lexer": "ipython3",
   "version": "3.6.8"
  }
 },
 "nbformat": 4,
 "nbformat_minor": 4
}
